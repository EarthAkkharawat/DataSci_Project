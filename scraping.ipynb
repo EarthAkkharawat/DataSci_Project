{
 "cells": [
  {
   "cell_type": "code",
   "execution_count": 14,
   "metadata": {},
   "outputs": [],
   "source": [
    "from bs4 import BeautifulSoup\n",
    "import urllib.request\n",
    "import requests\n",
    "from PIL import Image\n",
    "from io import BytesIO\n",
    "\n",
    "# Replace with the link you want to scrape images from\n",
    "url = 'https://www.google.com/search?q=trAffic+images+in+thailand&sxsrf=APwXEddAu71jTC91TyrcNrDmsnhWMjiR9w:1683883796657&source=lnms&tbm=isch&sa=X&ved=2ahUKEwihpKv8u-_-AhU6a2wGHUDPCIcQ_AUoAXoECAEQAw&biw=1920&bih=909&dpr=1' # traffic link\n",
    "url = \"https://www.google.com/search?q=traffic+images+in+thailand&tbm=isch&chips=q:traffic+thailand,online_chips:congestion:8sY58KcDMng%3D&hl=en-GB&sa=X&ved=2ahUKEwict6rJwO_-AhV6ALcAHYV_DRQQ4lYoCnoECAEQOQ&biw=1905&bih=909\"\n",
    "response = requests.get(url)\n",
    "soup = BeautifulSoup(response.content, 'html.parser')\n",
    "\n",
    "image_tags = soup.find_all('img')\n",
    "# print(image_tags)\n",
    "for i, image_tag in enumerate(image_tags):\n",
    "    image_url = image_tag['src']\n",
    "    if image_url.startswith('https'):\n",
    "\n",
    "        response = requests.get(image_url)\n",
    "        img = Image.open(BytesIO(response.content))\n",
    "        img.save(f\"train_scraped_traffic_img_{i}.jpg\", \"JPEG\")\n",
    "        break\n",
    "\n",
    "\n"
   ]
  },
  {
   "cell_type": "code",
   "execution_count": null,
   "metadata": {},
   "outputs": [],
   "source": []
  }
 ],
 "metadata": {
  "kernelspec": {
   "display_name": "nlpprog2023",
   "language": "python",
   "name": "python3"
  },
  "language_info": {
   "codemirror_mode": {
    "name": "ipython",
    "version": 3
   },
   "file_extension": ".py",
   "mimetype": "text/x-python",
   "name": "python",
   "nbconvert_exporter": "python",
   "pygments_lexer": "ipython3",
   "version": "3.10.10"
  },
  "orig_nbformat": 4
 },
 "nbformat": 4,
 "nbformat_minor": 2
}
