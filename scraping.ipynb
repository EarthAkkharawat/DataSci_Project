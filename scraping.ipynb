{
 "cells": [
  {
   "cell_type": "code",
   "execution_count": 6,
   "metadata": {},
   "outputs": [],
   "source": [
    "from bs4 import BeautifulSoup\n",
    "import urllib.request\n",
    "import requests\n",
    "from PIL import Image\n",
    "from io import BytesIO\n",
    "\n",
    "# Replace with the link you want to scrape images from\n",
    "url = 'https://www.google.com/search?q=trAffic+images+in+thailand&sxsrf=APwXEddAu71jTC91TyrcNrDmsnhWMjiR9w:1683883796657&source=lnms&tbm=isch&sa=X&ved=2ahUKEwihpKv8u-_-AhU6a2wGHUDPCIcQ_AUoAXoECAEQAw&biw=1920&bih=909&dpr=1' # traffic link\n",
    "\n",
    "response = requests.get(url)\n",
    "soup = BeautifulSoup(response.content, 'html.parser')\n",
    "\n",
    "image_tags = soup.find_all('img')\n",
    "\n",
    "for i, image_tag in enumerate(image_tags):\n",
    "    image_url = image_tag['src']\n",
    "    if image_url.startswith('https'):\n",
    "        urllib.request.urlretrieve(image_url, image_url.split(\"/\")[-1])\n",
    "\n",
    "        response = requests.get(image_url)\n",
    "        img = Image.open(BytesIO(response.content))\n",
    "        img.save(f\"train_scraped_traffic_img_{i}.jpg\", \"JPEG\")\n",
    "        break\n",
    "\n",
    "\n"
   ]
  },
  {
   "cell_type": "code",
   "execution_count": null,
   "metadata": {},
   "outputs": [],
   "source": []
  }
 ],
 "metadata": {
  "kernelspec": {
   "display_name": "nlpprog2023",
   "language": "python",
   "name": "python3"
  },
  "language_info": {
   "codemirror_mode": {
    "name": "ipython",
    "version": 3
   },
   "file_extension": ".py",
   "mimetype": "text/x-python",
   "name": "python",
   "nbconvert_exporter": "python",
   "pygments_lexer": "ipython3",
   "version": "3.10.10"
  },
  "orig_nbformat": 4
 },
 "nbformat": 4,
 "nbformat_minor": 2
}
